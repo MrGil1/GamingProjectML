{
 "cells": [
  {
   "cell_type": "code",
   "execution_count": 1,
   "id": "c6610ec7",
   "metadata": {},
   "outputs": [],
   "source": [
    "import matplotlib.pyplot as plt \n",
    "import pandas as pd \n",
    "from sklearn.linear_model import LogisticRegression\n",
    "from sklearn.model_selection import train_test_split, cross_validate, GridSearchCV\n",
    "from sklearn.preprocessing import StandardScaler, LabelEncoder\n",
    "from sklearn.compose import ColumnTransformer\n",
    "from sklearn.pipeline import Pipeline\n",
    "import numpy as np\n",
    "from pandas import get_dummies, Series\n",
    "from math import ceil\n",
    "from sklearn.ensemble import RandomForestClassifier\n",
    "import seaborn as sns\n",
    "from sklearn.preprocessing import LabelEncoder\n",
    "from sklearn.ensemble import RandomForestClassifier\n",
    "from sklearn.calibration import CalibratedClassifierCV\n",
    "from sklearn.model_selection import GridSearchCV\n",
    "from sklearn.model_selection import StratifiedKFold\n",
    "from sklearn.feature_selection import SelectFromModel\n",
    "from sklearn.metrics import classification_report, f1_score, accuracy_score, confusion_matrix \n",
    "from sklearn import svm\n",
    "from sklearn import linear_model\n",
    "from sklearn.neighbors import KNeighborsClassifier\n",
    "from sklearn.neural_network import MLPClassifier\n",
    "from sklearn.neural_network import MLPRegressor\n"
   ]
  },
  {
   "cell_type": "code",
   "execution_count": 2,
   "id": "d06fcb88",
   "metadata": {},
   "outputs": [],
   "source": [
    "df = pd.read_csv('finished_alla.csv')"
   ]
  },
  {
   "cell_type": "code",
   "execution_count": 3,
   "id": "14e321c3",
   "metadata": {
    "scrolled": true
   },
   "outputs": [
    {
     "data": {
      "text/html": [
       "<div>\n",
       "<style scoped>\n",
       "    .dataframe tbody tr th:only-of-type {\n",
       "        vertical-align: middle;\n",
       "    }\n",
       "\n",
       "    .dataframe tbody tr th {\n",
       "        vertical-align: top;\n",
       "    }\n",
       "\n",
       "    .dataframe thead th {\n",
       "        text-align: right;\n",
       "    }\n",
       "</style>\n",
       "<table border=\"1\" class=\"dataframe\">\n",
       "  <thead>\n",
       "    <tr style=\"text-align: right;\">\n",
       "      <th></th>\n",
       "      <th>game_title</th>\n",
       "      <th>release_year</th>\n",
       "      <th>num_of_critics</th>\n",
       "      <th>critics_grade</th>\n",
       "      <th>game_summary</th>\n",
       "      <th>user_grade</th>\n",
       "      <th>platform</th>\n",
       "      <th>num_of_users</th>\n",
       "      <th>game_num_of_players</th>\n",
       "      <th>game_developer</th>\n",
       "    </tr>\n",
       "  </thead>\n",
       "  <tbody>\n",
       "    <tr>\n",
       "      <th>0</th>\n",
       "      <td>Super Mario Galaxy 2</td>\n",
       "      <td>2010</td>\n",
       "      <td>87</td>\n",
       "      <td>97</td>\n",
       "      <td>Super Mario Galaxy 2, the sequel to the galaxy...</td>\n",
       "      <td>9.1</td>\n",
       "      <td>Wii</td>\n",
       "      <td>2948</td>\n",
       "      <td>No Online Multiplayer</td>\n",
       "      <td>Nintendo</td>\n",
       "    </tr>\n",
       "    <tr>\n",
       "      <th>1</th>\n",
       "      <td>Red Dead Redemption 2</td>\n",
       "      <td>2018</td>\n",
       "      <td>33</td>\n",
       "      <td>97</td>\n",
       "      <td>Developed by the creators of Grand Theft Auto ...</td>\n",
       "      <td>8.2</td>\n",
       "      <td>XboxOne</td>\n",
       "      <td>4767</td>\n",
       "      <td>Up to 32</td>\n",
       "      <td>Rockstar</td>\n",
       "    </tr>\n",
       "    <tr>\n",
       "      <th>2</th>\n",
       "      <td>Grand Theft Auto V</td>\n",
       "      <td>2014</td>\n",
       "      <td>14</td>\n",
       "      <td>97</td>\n",
       "      <td>Great Game. The best GTA now enhanced by the X...</td>\n",
       "      <td>7.9</td>\n",
       "      <td>XboxOne</td>\n",
       "      <td>1760</td>\n",
       "      <td>Up to 30</td>\n",
       "      <td>Rockstar</td>\n",
       "    </tr>\n",
       "    <tr>\n",
       "      <th>3</th>\n",
       "      <td>Grand Theft Auto V</td>\n",
       "      <td>2013</td>\n",
       "      <td>50</td>\n",
       "      <td>97</td>\n",
       "      <td>Los Santos is a vast, sun-soaked metropolis fu...</td>\n",
       "      <td>8.3</td>\n",
       "      <td>PlayStation3</td>\n",
       "      <td>4994</td>\n",
       "      <td>Up to 16</td>\n",
       "      <td>Rockstar</td>\n",
       "    </tr>\n",
       "    <tr>\n",
       "      <th>4</th>\n",
       "      <td>Disco Elysium: The Final Cut</td>\n",
       "      <td>2021</td>\n",
       "      <td>11</td>\n",
       "      <td>97</td>\n",
       "      <td>Disco Elysium - The Final Cut is the definitiv...</td>\n",
       "      <td>8.3</td>\n",
       "      <td>PC</td>\n",
       "      <td>782</td>\n",
       "      <td>No Online Multiplayer</td>\n",
       "      <td>ZA/UM</td>\n",
       "    </tr>\n",
       "  </tbody>\n",
       "</table>\n",
       "</div>"
      ],
      "text/plain": [
       "                     game_title  release_year  num_of_critics  critics_grade  \\\n",
       "0          Super Mario Galaxy 2          2010              87             97   \n",
       "1         Red Dead Redemption 2          2018              33             97   \n",
       "2            Grand Theft Auto V          2014              14             97   \n",
       "3            Grand Theft Auto V          2013              50             97   \n",
       "4  Disco Elysium: The Final Cut          2021              11             97   \n",
       "\n",
       "                                        game_summary  user_grade  \\\n",
       "0  Super Mario Galaxy 2, the sequel to the galaxy...         9.1   \n",
       "1  Developed by the creators of Grand Theft Auto ...         8.2   \n",
       "2  Great Game. The best GTA now enhanced by the X...         7.9   \n",
       "3  Los Santos is a vast, sun-soaked metropolis fu...         8.3   \n",
       "4  Disco Elysium - The Final Cut is the definitiv...         8.3   \n",
       "\n",
       "       platform  num_of_users    game_num_of_players game_developer  \n",
       "0           Wii          2948  No Online Multiplayer       Nintendo  \n",
       "1       XboxOne          4767              Up to 32        Rockstar  \n",
       "2       XboxOne          1760              Up to 30        Rockstar  \n",
       "3  PlayStation3          4994              Up to 16        Rockstar  \n",
       "4            PC           782  No Online Multiplayer          ZA/UM  "
      ]
     },
     "execution_count": 3,
     "metadata": {},
     "output_type": "execute_result"
    }
   ],
   "source": [
    "df.head()"
   ]
  },
  {
   "cell_type": "code",
   "execution_count": 4,
   "id": "a9e7a272",
   "metadata": {},
   "outputs": [],
   "source": [
    "#let's reduse the non-numeric columns from the data:\n",
    "#we chose not to use game summary becasue is was not relavent to the prediction\n",
    "#we would have liked use the game developer column and game num of players column but we ran into problems. \n",
    "#we chose to not use \"game developer\"as a feature for the new df,the game developer had too many developers and caused data sparsity\n",
    "#num of players column has problems with the data"
   ]
  },
  {
   "cell_type": "code",
   "execution_count": 5,
   "id": "242ea034",
   "metadata": {},
   "outputs": [],
   "source": [
    "df2 = df[['release_year','platform','critics_grade','num_of_critics','user_grade']]"
   ]
  },
  {
   "cell_type": "code",
   "execution_count": 6,
   "id": "80997e42",
   "metadata": {},
   "outputs": [],
   "source": [
    "#In the next cell we define a new binery column that indicates popularity based on 200 ratings and more.\n",
    "#Because we assume that users will not rate a game if they dont like it.\n",
    "#After that, we add it to the data frame."
   ]
  },
  {
   "cell_type": "code",
   "execution_count": 7,
   "id": "000c4101",
   "metadata": {},
   "outputs": [
    {
     "name": "stderr",
     "output_type": "stream",
     "text": [
      "/var/folders/f3/xvgpmhpd1hv8t3f335drlh3c0000gn/T/ipykernel_14138/2253227038.py:3: SettingWithCopyWarning: \n",
      "A value is trying to be set on a copy of a slice from a DataFrame.\n",
      "Try using .loc[row_indexer,col_indexer] = value instead\n",
      "\n",
      "See the caveats in the documentation: https://pandas.pydata.org/pandas-docs/stable/user_guide/indexing.html#returning-a-view-versus-a-copy\n",
      "  df2['Popularity'] = df['num_of_users']\n",
      "/var/folders/f3/xvgpmhpd1hv8t3f335drlh3c0000gn/T/ipykernel_14138/2253227038.py:10: SettingWithCopyWarning: \n",
      "A value is trying to be set on a copy of a slice from a DataFrame.\n",
      "Try using .loc[row_indexer,col_indexer] = value instead\n",
      "\n",
      "See the caveats in the documentation: https://pandas.pydata.org/pandas-docs/stable/user_guide/indexing.html#returning-a-view-versus-a-copy\n",
      "  df2['Popularity'] = df2['Popularity'].apply(lambda x: Popularity(x))\n"
     ]
    }
   ],
   "source": [
    "#link to solution from StackOverflow: https://stackoverflow.com/questions/20625582/how-to-deal-with-settingwithcopywarning-in-pandas\n",
    "\n",
    "df2['Popularity'] = df['num_of_users']\n",
    "def Popularity(ratings):\n",
    "    if ratings >= 200:\n",
    "        return 1\n",
    "    else:\n",
    "        return 0\n",
    "\n",
    "df2['Popularity'] = df2['Popularity'].apply(lambda x: Popularity(x))"
   ]
  },
  {
   "cell_type": "code",
   "execution_count": 8,
   "id": "a0574ff5",
   "metadata": {},
   "outputs": [],
   "source": [
    "#Here is the new data frame:"
   ]
  },
  {
   "cell_type": "code",
   "execution_count": 9,
   "id": "3d18912a",
   "metadata": {},
   "outputs": [
    {
     "data": {
      "text/html": [
       "<div>\n",
       "<style scoped>\n",
       "    .dataframe tbody tr th:only-of-type {\n",
       "        vertical-align: middle;\n",
       "    }\n",
       "\n",
       "    .dataframe tbody tr th {\n",
       "        vertical-align: top;\n",
       "    }\n",
       "\n",
       "    .dataframe thead th {\n",
       "        text-align: right;\n",
       "    }\n",
       "</style>\n",
       "<table border=\"1\" class=\"dataframe\">\n",
       "  <thead>\n",
       "    <tr style=\"text-align: right;\">\n",
       "      <th></th>\n",
       "      <th>release_year</th>\n",
       "      <th>platform</th>\n",
       "      <th>critics_grade</th>\n",
       "      <th>num_of_critics</th>\n",
       "      <th>user_grade</th>\n",
       "      <th>Popularity</th>\n",
       "    </tr>\n",
       "  </thead>\n",
       "  <tbody>\n",
       "    <tr>\n",
       "      <th>0</th>\n",
       "      <td>2010</td>\n",
       "      <td>Wii</td>\n",
       "      <td>97</td>\n",
       "      <td>87</td>\n",
       "      <td>9.1</td>\n",
       "      <td>1</td>\n",
       "    </tr>\n",
       "    <tr>\n",
       "      <th>1</th>\n",
       "      <td>2018</td>\n",
       "      <td>XboxOne</td>\n",
       "      <td>97</td>\n",
       "      <td>33</td>\n",
       "      <td>8.2</td>\n",
       "      <td>1</td>\n",
       "    </tr>\n",
       "    <tr>\n",
       "      <th>2</th>\n",
       "      <td>2014</td>\n",
       "      <td>XboxOne</td>\n",
       "      <td>97</td>\n",
       "      <td>14</td>\n",
       "      <td>7.9</td>\n",
       "      <td>1</td>\n",
       "    </tr>\n",
       "    <tr>\n",
       "      <th>3</th>\n",
       "      <td>2013</td>\n",
       "      <td>PlayStation3</td>\n",
       "      <td>97</td>\n",
       "      <td>50</td>\n",
       "      <td>8.3</td>\n",
       "      <td>1</td>\n",
       "    </tr>\n",
       "    <tr>\n",
       "      <th>4</th>\n",
       "      <td>2021</td>\n",
       "      <td>PC</td>\n",
       "      <td>97</td>\n",
       "      <td>11</td>\n",
       "      <td>8.3</td>\n",
       "      <td>1</td>\n",
       "    </tr>\n",
       "    <tr>\n",
       "      <th>...</th>\n",
       "      <td>...</td>\n",
       "      <td>...</td>\n",
       "      <td>...</td>\n",
       "      <td>...</td>\n",
       "      <td>...</td>\n",
       "      <td>...</td>\n",
       "    </tr>\n",
       "    <tr>\n",
       "      <th>7936</th>\n",
       "      <td>2011</td>\n",
       "      <td>Xbox360</td>\n",
       "      <td>50</td>\n",
       "      <td>18</td>\n",
       "      <td>4.3</td>\n",
       "      <td>0</td>\n",
       "    </tr>\n",
       "    <tr>\n",
       "      <th>7937</th>\n",
       "      <td>2011</td>\n",
       "      <td>PlayStation3</td>\n",
       "      <td>50</td>\n",
       "      <td>33</td>\n",
       "      <td>5.1</td>\n",
       "      <td>0</td>\n",
       "    </tr>\n",
       "    <tr>\n",
       "      <th>7938</th>\n",
       "      <td>2010</td>\n",
       "      <td>Xbox360</td>\n",
       "      <td>50</td>\n",
       "      <td>9</td>\n",
       "      <td>5.6</td>\n",
       "      <td>0</td>\n",
       "    </tr>\n",
       "    <tr>\n",
       "      <th>7939</th>\n",
       "      <td>2018</td>\n",
       "      <td>Switch</td>\n",
       "      <td>50</td>\n",
       "      <td>7</td>\n",
       "      <td>5.0</td>\n",
       "      <td>0</td>\n",
       "    </tr>\n",
       "    <tr>\n",
       "      <th>7940</th>\n",
       "      <td>2011</td>\n",
       "      <td>PlayStation3</td>\n",
       "      <td>50</td>\n",
       "      <td>12</td>\n",
       "      <td>5.4</td>\n",
       "      <td>0</td>\n",
       "    </tr>\n",
       "  </tbody>\n",
       "</table>\n",
       "<p>7941 rows × 6 columns</p>\n",
       "</div>"
      ],
      "text/plain": [
       "      release_year      platform  critics_grade  num_of_critics  user_grade  \\\n",
       "0             2010           Wii             97              87         9.1   \n",
       "1             2018       XboxOne             97              33         8.2   \n",
       "2             2014       XboxOne             97              14         7.9   \n",
       "3             2013  PlayStation3             97              50         8.3   \n",
       "4             2021            PC             97              11         8.3   \n",
       "...            ...           ...            ...             ...         ...   \n",
       "7936          2011       Xbox360             50              18         4.3   \n",
       "7937          2011  PlayStation3             50              33         5.1   \n",
       "7938          2010       Xbox360             50               9         5.6   \n",
       "7939          2018        Switch             50               7         5.0   \n",
       "7940          2011  PlayStation3             50              12         5.4   \n",
       "\n",
       "      Popularity  \n",
       "0              1  \n",
       "1              1  \n",
       "2              1  \n",
       "3              1  \n",
       "4              1  \n",
       "...          ...  \n",
       "7936           0  \n",
       "7937           0  \n",
       "7938           0  \n",
       "7939           0  \n",
       "7940           0  \n",
       "\n",
       "[7941 rows x 6 columns]"
      ]
     },
     "execution_count": 9,
     "metadata": {},
     "output_type": "execute_result"
    }
   ],
   "source": [
    "df2"
   ]
  },
  {
   "cell_type": "code",
   "execution_count": 10,
   "id": "a7cf1665",
   "metadata": {},
   "outputs": [
    {
     "data": {
      "text/plain": [
       "<AxesSubplot:xlabel='critics_grade', ylabel='Popularity'>"
      ]
     },
     "execution_count": 10,
     "metadata": {},
     "output_type": "execute_result"
    },
    {
     "data": {
      "image/png": "[encoded data removed]",
      "text/plain": [
       "<Figure size 1200x500 with 1 Axes>"
      ]
     },
     "metadata": {},
     "output_type": "display_data"
    }
   ],
   "source": [
    "n = ceil(0.05 * len(df2['Popularity']))\n",
    "fig, ax = plt.subplots(1,1, figsize=(12,5))\n",
    "sns.regplot(x=\"critics_grade\", y=\"Popularity\", data=df2.sample(n=n),logistic=True, n_boot=500, y_jitter=0.04, color=\"green\")"
   ]
  },
  {
   "cell_type": "code",
   "execution_count": null,
   "id": "fdf6840b",
   "metadata": {},
   "outputs": [],
   "source": [
    "# as we can see there are more unpopular games then popular games\n",
    "\n"
   ]
  },
  {
   "cell_type": "code",
   "execution_count": 11,
   "id": "3c6e49d3",
   "metadata": {},
   "outputs": [],
   "source": [
    "df_copy = pd.get_dummies(df2)"
   ]
  },
  {
   "cell_type": "code",
   "execution_count": 21,
   "id": "626e7fad",
   "metadata": {
    "pycharm": {
     "name": "#%%\n"
    }
   },
   "outputs": [
    {
     "data": {
      "text/plain": [
       "['release_year',\n",
       " 'critics_grade',\n",
       " 'num_of_critics',\n",
       " 'user_grade',\n",
       " 'Popularity',\n",
       " 'platform_3DS',\n",
       " 'platform_DS',\n",
       " 'platform_PC',\n",
       " 'platform_PSP',\n",
       " 'platform_PlayStation3',\n",
       " 'platform_PlayStation4',\n",
       " 'platform_PlayStation5',\n",
       " 'platform_PlayStationVita',\n",
       " 'platform_Stadia',\n",
       " 'platform_Switch',\n",
       " 'platform_Wii',\n",
       " 'platform_WiiU',\n",
       " 'platform_Xbox360',\n",
       " 'platform_XboxOne',\n",
       " 'platform_XboxSeriesX']"
      ]
     },
     "execution_count": 21,
     "metadata": {},
     "output_type": "execute_result"
    }
   ],
   "source": [
    "df_copy.columns.tolist()"
   ]
  },
  {
   "cell_type": "code",
   "execution_count": null,
   "id": "c0b6fbdd",
   "metadata": {},
   "outputs": [],
   "source": [
    "#Declaring variables to use with train-test method"
   ]
  },
  {
   "cell_type": "code",
   "execution_count": 12,
   "id": "954f03d0",
   "metadata": {},
   "outputs": [
    {
     "data": {
      "text/plain": [
       "((6352, 19), (6352,), (1589, 19), (1589,))"
      ]
     },
     "execution_count": 12,
     "metadata": {},
     "output_type": "execute_result"
    }
   ],
   "source": [
    "features = [l for l in df_copy.columns.tolist() if l != 'Popularity']\n",
    "target = 'Popularity'\n",
    "\n",
    "Xtrain, Xtest, ytrain, ytest = train_test_split(df_copy[features], df_copy[target], test_size=0.2)\n",
    "Xtrain.shape, ytrain.shape, Xtest.shape, ytest.shape"
   ]
  },
  {
   "cell_type": "code",
   "execution_count": 13,
   "id": "bf9c1d25",
   "metadata": {
    "pycharm": {
     "name": "#%%\n"
    }
   },
   "outputs": [
    {
     "data": {
      "text/plain": [
       "0    0.767947\n",
       "1    0.232053\n",
       "Name: Popularity, dtype: float64"
      ]
     },
     "execution_count": 13,
     "metadata": {},
     "output_type": "execute_result"
    }
   ],
   "source": [
    "# Data label balance\n",
    "ytrain.value_counts(normalize=True)"
   ]
  },
  {
   "cell_type": "code",
   "execution_count": 14,
   "id": "a8555438",
   "metadata": {},
   "outputs": [
    {
     "data": {
      "text/plain": [
       "0.7755102040816326"
      ]
     },
     "execution_count": 14,
     "metadata": {},
     "output_type": "execute_result"
    }
   ],
   "source": [
    "#lets see the precision score for random forest module\n",
    "from sklearn.metrics import accuracy_score, precision_score, recall_score\n",
    "\n",
    "radm = RandomForestClassifier(random_state=2).fit(Xtrain, ytrain)\n",
    "y_pred = radm.predict(Xtest)\n",
    "precision_score(ytest, y_pred)"
   ]
  },
  {
   "cell_type": "code",
   "execution_count": 15,
   "id": "88a31bdc",
   "metadata": {
    "pycharm": {
     "name": "#%%\n"
    }
   },
   "outputs": [
    {
     "data": {
      "text/plain": [
       "0.6145552560646901"
      ]
     },
     "execution_count": 15,
     "metadata": {},
     "output_type": "execute_result"
    }
   ],
   "source": [
    "#recall score for random forest:\n",
    "recall_score(ytest, y_pred)"
   ]
  },
  {
   "cell_type": "code",
   "execution_count": 16,
   "id": "2c78c318",
   "metadata": {},
   "outputs": [
    {
     "data": {
      "text/plain": [
       "0.7596899224806202"
      ]
     },
     "execution_count": 16,
     "metadata": {},
     "output_type": "execute_result"
    }
   ],
   "source": [
    "#lets see the precision score for logistic regresion module:\n",
    "log_reg = LogisticRegression(max_iter=2000).fit(Xtrain, ytrain)\n",
    "y_pred = log_reg.predict(Xtest)\n",
    "precision_score(ytest, y_pred)"
   ]
  },
  {
   "cell_type": "code",
   "execution_count": 22,
   "id": "2a314f92",
   "metadata": {},
   "outputs": [
    {
     "name": "stdout",
     "output_type": "stream",
     "text": [
      "              precision    recall  f1-score   support\n",
      "\n",
      "           0       0.87      0.95      0.91      1218\n",
      "           1       0.76      0.53      0.62       371\n",
      "\n",
      "    accuracy                           0.85      1589\n",
      "   macro avg       0.81      0.74      0.77      1589\n",
      "weighted avg       0.84      0.85      0.84      1589\n",
      "\n"
     ]
    }
   ],
   "source": [
    "all_predictions = log_reg.predict(Xtest)\n",
    "print(classification_report(ytest, all_predictions))"
   ]
  },
  {
   "cell_type": "code",
   "execution_count": null,
   "id": "53b6d92e",
   "metadata": {},
   "outputs": [],
   "source": [
    "#as we can see the precision score is 0.87 for predicting unpopular games\n",
    "#and 0.76 precision score for predicting popular games\n",
    "# now we can assume that our module is better for predicting unpopular games than popular based on our data."
   ]
  },
  {
   "cell_type": "code",
   "execution_count": 18,
   "id": "569d5d81",
   "metadata": {
    "pycharm": {
     "name": "#%%\n"
    }
   },
   "outputs": [
    {
     "data": {
      "text/plain": [
       "[Text(0.5, 25.722222222222214, 'Predicted Value'),\n",
       " Text(0.5, 1.0, 'Training Set Confusion Matrix'),\n",
       " Text(33.22222222222222, 0.5, 'Expected Value')]"
      ]
     },
     "execution_count": 18,
     "metadata": {},
     "output_type": "execute_result"
    },
    {
     "data": {
      "image/png": "[encoded data removed]",
      "text/plain": [
       "<Figure size 500x500 with 2 Axes>"
      ]
     },
     "metadata": {},
     "output_type": "display_data"
    }
   ],
   "source": [
    "fig, ax = plt.subplots(figsize=(5,5))\n",
    "sns.heatmap(confusion_matrix(ytest, all_predictions), annot=True, linewidths=.5, ax=ax, fmt=\"d\").set(xlabel='Predicted Value', title='Training Set Confusion Matrix', ylabel='Expected Value')"
   ]
  },
  {
   "cell_type": "code",
   "execution_count": null,
   "id": "74f13e33",
   "metadata": {},
   "outputs": [],
   "source": [
    "#for our last test we try diffrent modules to see if any module works better  "
   ]
  },
  {
   "cell_type": "code",
   "execution_count": 19,
   "id": "cf7fd956",
   "metadata": {
    "pycharm": {
     "name": "#%%\n"
    }
   },
   "outputs": [
    {
     "name": "stdout",
     "output_type": "stream",
     "text": [
      "0.7755102040816326\n",
      "0.6226912928759895\n",
      "0.73992673992674\n",
      "0.7544483985765125\n",
      "0.6598837209302325\n",
      "0.7596899224806202\n"
     ]
    }
   ],
   "source": [
    "from sklearn.tree import DecisionTreeClassifier\n",
    "from sklearn.linear_model import LogisticRegression\n",
    "\n",
    "models = [\n",
    "    RandomForestClassifier(random_state=2),\n",
    "    DecisionTreeClassifier(),\n",
    "    DecisionTreeClassifier(max_depth=5),\n",
    "    DecisionTreeClassifier(max_depth=10),\n",
    "    DecisionTreeClassifier(max_depth=15),\n",
    "    LogisticRegression(max_iter=200)\n",
    "]\n",
    "\n",
    "for clf in models:\n",
    "    clf.fit(Xtrain, ytrain)\n",
    "    y_pred = clf.predict(Xtest)\n",
    "    print(precision_score(ytest, y_pred))"
   ]
  },
  {
   "cell_type": "code",
   "execution_count": null,
   "id": "e1256cb8",
   "metadata": {
    "pycharm": {
     "name": "#%%\n"
    }
   },
   "outputs": [],
   "source": [
    "#the best module was the random forest for prediction of popular games based on our data"
   ]
  }
 ],
 "metadata": {
  "kernelspec": {
   "display_name": "Python 3 (ipykernel)",
   "language": "python",
   "name": "python3"
  },
  "language_info": {
   "codemirror_mode": {
    "name": "ipython",
    "version": 3
   },
   "file_extension": ".py",
   "mimetype": "text/x-python",
   "name": "python",
   "nbconvert_exporter": "python",
   "pygments_lexer": "ipython3",
   "version": "3.9.13"
  }
 },
 "nbformat": 4,
 "nbformat_minor": 5
}
