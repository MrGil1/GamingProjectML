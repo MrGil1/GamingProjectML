{
 "cells": [
  {
   "cell_type": "code",
   "execution_count": null,
   "id": "8c484b16",
   "metadata": {},
   "outputs": [],
   "source": [
    "# Data Acquisition \n",
    "\n",
    "#Let's start with imports:"
   ]
  },
  {
   "cell_type": "code",
   "execution_count": null,
   "id": "1ea30e1f",
   "metadata": {},
   "outputs": [],
   "source": [
    "from bs4 import BeautifulSoup\n",
    "import requests\n",
    "import pandas as pd\n",
    "import time"
   ]
  },
  {
   "cell_type": "code",
   "execution_count": null,
   "id": "c7fb9376",
   "metadata": {},
   "outputs": [],
   "source": [
    "#Let's define a method that claims html form a url"
   ]
  },
  {
   "cell_type": "code",
   "execution_count": null,
   "id": "99627afa",
   "metadata": {},
   "outputs": [],
   "source": [
    "def claim_html(url):\n",
    "    user_agent = {'User-agent': '*'}\n",
    "    res = requests.get(url, headers=user_agent)\n",
    "    return BeautifulSoup(res.content,\"html.parser\")"
   ]
  },
  {
   "cell_type": "code",
   "execution_count": null,
   "id": "02ce7618",
   "metadata": {},
   "outputs": [],
   "source": [
    "#bring our main domain"
   ]
  },
  {
   "cell_type": "code",
   "execution_count": null,
   "id": "93de2ecf",
   "metadata": {},
   "outputs": [],
   "source": [
    "main_page = claim_html(\"https://www.metacritic.com/browse/games/score/metascore/all/all/filtered\")"
   ]
  },
  {
   "cell_type": "code",
   "execution_count": null,
   "id": "3fda4f99",
   "metadata": {},
   "outputs": [],
   "source": [
    "#claim our next page on main domain"
   ]
  },
  {
   "cell_type": "code",
   "execution_count": null,
   "id": "8d8cc4cb",
   "metadata": {},
   "outputs": [],
   "source": [
    "next_page = main_page.find(\"span\",attrs={\"class\":\"flipper next\"}).a['href']"
   ]
  },
  {
   "cell_type": "code",
   "execution_count": null,
   "id": "ec7e63eb",
   "metadata": {},
   "outputs": [],
   "source": [
    "#Variables declaration :\n",
    "#each list for each "
   ]
  },
  {
   "cell_type": "code",
   "execution_count": null,
   "id": "e61fc34b",
   "metadata": {},
   "outputs": [],
   "source": [
    "counter = 0\n",
    "game_title = []\n",
    "release_year =[]\n",
    "num_of_critics=[]\n",
    "critics_grade=[]\n",
    "game_summary=[]\n",
    "user_grade=[]\n",
    "platform =[]\n",
    "num_of_users = []\n",
    "game_num_of_players = []\n",
    "game_developer = []\n",
    "df=pd.DataFrame()"
   ]
  },
  {
   "cell_type": "code",
   "execution_count": 1,
   "id": "5d4bcbee",
   "metadata": {},
   "outputs": [],
   "source": [
    "#the main function:\n",
    "#here the General explanation for main function and data extraction:\n",
    "\n",
    "#This script gather the domains of games with release year of 2010 and above reaches their HTML page and \n",
    "#fetch the requested data using try and except in order to scrape MetaCritic and fill the lists.\n",
    "#we added a counter to see our progress through each next main pages and we used the function sleep in \n",
    "#intervals of each request.\n",
    "\n",
    "\n",
    "#This function also combines all DataFrames together into a one big DataFrame\n"
   ]
  },
  {
   "cell_type": "code",
   "execution_count": null,
   "id": "ac82e927",
   "metadata": {},
   "outputs": [],
   "source": [
    "while next_page != None:\n",
    "    try:\n",
    "        game_info_list=main_page.findAll(\"td\",attrs={\"class\":\"clamp-summary-wrap\"})\n",
    "    except:\n",
    "        time.sleep(6)\n",
    "        game_info_list=main_page.findAll(\"td\",attrs={\"class\":\"clamp-summary-wrap\"})\n",
    "    for td in game_info_list:\n",
    "        sp = td.find(\"div\",attrs={\"class\":\"clamp-details\"}).select(\"span\")\n",
    "        release_date_string= str(sp[2].text)\n",
    "        release_year_string=release_date_string[len(release_date_string)-4]+release_date_string[len(release_date_string)-3]+release_date_string[len(release_date_string)-2]+release_date_string[len(release_date_string)-1]\n",
    "        if int(release_year_string)>=2010:\n",
    "            if sp[1].text != \"iOS\":\n",
    "                try:\n",
    "                    game_page=claim_html(\"https://www.metacritic.com/\"+td.find(\"a\",attrs={\"class\":\"title\"})['href'])\n",
    "                except:\n",
    "                    time.sleep(6)\n",
    "                    game_page=claim_html(\"https://www.metacritic.com/\"+td.find(\"a\",attrs={\"class\":\"title\"})['href'])\n",
    "                try:\n",
    "                    game_title.append(game_page.find(\"div\",attrs={\"class\":\"product_title\"}).a.text.replace(\"\\n\",\"\"))\n",
    "                except:\n",
    "                     game_title.append(None)\n",
    "                release_year.append(release_year_string)\n",
    "                platform.append((sp[1].text.replace(\"\\n\",\"\")))\n",
    "                try:\n",
    "                    num_of_critics.append(game_page.find(\"span\",attrs={\"class\":\"count\"}).a.span.text.replace(\"\\n\",\"\"))\n",
    "                except:\n",
    "                    num_of_critics.append(None)\n",
    "                try:\n",
    "                    critics_grade.append(game_page.find(\"div\",attrs={\"class\":\"metascore_w xlarge game positive\"}).text)\n",
    "                except:\n",
    "                    try:\n",
    "                        critics_grade.append(game_page.find(\"div\",attrs={\"class\":\"metascore_w xlarge game mixed\"}).text)\n",
    "                    except:\n",
    "                        try:\n",
    "                            critics_grade.append(game_page.find(\"div\",attrs={\"href = \":\"metascore_w xlarge game negative\"}).text)\n",
    "                        except:\n",
    "                            critics_grade.append(None)\n",
    "                try:\n",
    "                    game_summary.append(game_page.find(\"span\",attrs={\"class\":\"blurb blurb_expanded\"}).text)\n",
    "                except:\n",
    "                    game_summary.append(None)\n",
    "                try:\n",
    "                    game_developer.append(game_page.find(\"li\", attrs={\"class\": \"summary_detail developer\"}).find(\"span\", attrs={\"class\": \"data\"}).text.replace(\"\\n\",\"\"))\n",
    "                except:\n",
    "                    game_developer.append(None)\n",
    "\n",
    "                try:\n",
    "                    num_of_users.append(game_page.find(\"div\", attrs={\"class\":\"userscore_wrap feature_userscore\"}).find(\"div\", attrs={\"class\": \"summary\"}).find(\"span\",attrs={\"class\": \"count\"}).a.text)\n",
    "                except:\n",
    "                    num_of_users.append(None)\n",
    "\n",
    "                try:\n",
    "                    game_num_of_players.append(game_page.find(\"li\",attrs={\"class\":\"summary_detail product_players\"}).find(\"span\",attrs={\"class\": \"data\"}).text.replace(\"\\n\",\"\"))\n",
    "                except:\n",
    "                    game_num_of_players.append(None)\n",
    "                try:\n",
    "                    user_grade.append(game_page.find(\"div\",attrs={\"class\":\"metascore_w user large game positive\"}).text)\n",
    "                except:\n",
    "                    try:\n",
    "                        user_grade.append(game_page.find(\"div\",attrs={\"class\":\"metascore_w user large game mixed\"}).text)\n",
    "                    except:\n",
    "                        try:\n",
    "                            user_grade.append(game_page.find(\"div\",attrs={\"class\":\"metascore_w user large game negative\"}).text)\n",
    "                        except:\n",
    "                            user_grade.append(None)\n",
    "\n",
    "                time.sleep(5)\n",
    "    counter+=1\n",
    "    try:\n",
    "        main_page = claim_html(\"https://www.metacritic.com/\"+next_page)\n",
    "    except:\n",
    "        time.sleep(6)\n",
    "        main_page = claim_html(\"https://www.metacritic.com/\"+next_page)\n",
    "    if main_page.find(\"span\",attrs={\"class\":\"flipper next\"}).a == None:\n",
    "        next_page = None\n",
    "    else:\n",
    "        next_page=main_page.find(\"span\",attrs={\"class\":\"flipper next\"}).a['href']\n",
    "        if \"browse\" not in next_page:\n",
    "            next_page = \"browse\"+next_page\n",
    "    df_1=pd.DataFrame({\"game_title\":game_title,\"release_year\":release_year,\"num_of_critics\":num_of_critics,\"critics_grade\":critics_grade,\"game_summary\":game_summary,\n",
    "                 \"user_grade\":user_grade,\"platform\":platform,\"num_of_users\":num_of_users,\"game_num_of_players\":game_num_of_players,\"game_developer\":game_developer})\n",
    "    df=df.append(df_1)\n",
    "    game_title = []\n",
    "    release_year =[]\n",
    "    num_of_critics=[]\n",
    "    critics_grade=[]\n",
    "    game_summary = []\n",
    "    user_grade=[]\n",
    "    platform = []\n",
    "    num_of_users = []\n",
    "    game_num_of_players = []\n",
    "    game_developer = []\n",
    "    time.sleep(5)\n",
    "    print(counter)"
   ]
  },
  {
   "cell_type": "code",
   "execution_count": null,
   "id": "8ac791a9",
   "metadata": {},
   "outputs": [],
   "source": [
    "#strip and export"
   ]
  },
  {
   "cell_type": "code",
   "execution_count": null,
   "id": "8aa370ea",
   "metadata": {},
   "outputs": [],
   "source": [
    "df['num_of_critics']=df['num_of_critics'].str.strip()\n",
    "df.to_csv('all_games_df')"
   ]
  }
 ],
 "metadata": {
  "kernelspec": {
   "display_name": "Python 3 (ipykernel)",
   "language": "python",
   "name": "python3"
  },
  "language_info": {
   "codemirror_mode": {
    "name": "ipython",
    "version": 3
   },
   "file_extension": ".py",
   "mimetype": "text/x-python",
   "name": "python",
   "nbconvert_exporter": "python",
   "pygments_lexer": "ipython3",
   "version": "3.9.13"
  }
 },
 "nbformat": 4,
 "nbformat_minor": 5
}
